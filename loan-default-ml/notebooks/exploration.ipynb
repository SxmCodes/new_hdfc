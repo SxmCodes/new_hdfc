import pandas as pd
from sklearn.model_selection import train_test_split
from sklearn.ensemble import RandomForestClassifier
from sklearn.metrics import classification_report

# Step 1: Load the data
data = pd.read_csv('d:\\Mdel Trained\\test_cleaned_with_features.csv')

# Step 2: Data preparation
# Handle missing values (example: fill with mode for categorical and mean for numerical)
data['Gender'].fillna(data['Gender'].mode()[0], inplace=True)
data['Married'].fillna(data['Married'].mode()[0], inplace=True)
data['Self_Employed'].fillna(data['Self_Employed'].mode()[0], inplace=True)
data['LoanAmount'].fillna(data['LoanAmount'].mean(), inplace=True)

# Convert categorical variables to numerical
data = pd.get_dummies(data, columns=['Gender', 'Married', 'Education', 'Self_Employed', 'Property_Area'], drop_first=True)

# Step 3: Define features and target
X = data.drop(['Loan_Status'], axis=1)
y = data['Loan_Status'].map({'Y': 1, 'N': 0})  # Convert target to binary

# Step 4: Train-test split
X_train, X_test, y_train, y_test = train_test_split(X, y, test_size=0.2, random_state=42)

# Step 5: Model training
model = RandomForestClassifier()
model.fit(X_train, y_train)

# Step 6: Model evaluation
y_pred = model.predict(X_test)
print(classification_report(y_test, y_pred))